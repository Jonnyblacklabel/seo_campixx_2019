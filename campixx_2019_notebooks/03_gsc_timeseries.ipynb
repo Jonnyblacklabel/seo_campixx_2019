{
 "cells": [
  {
   "cell_type": "markdown",
   "metadata": {
    "toc-hr-collapsed": false
   },
   "source": [
    "# Google Search Console - Time Series\n",
    "\n",
    "> Für diese Notebooks benötigt ihr die Sqlite mit den GSC Daten."
   ]
  },
  {
   "cell_type": "code",
   "execution_count": null,
   "metadata": {},
   "outputs": [],
   "source": [
    "%run helpers/code_toggle.py"
   ]
  },
  {
   "cell_type": "code",
   "execution_count": null,
   "metadata": {},
   "outputs": [],
   "source": [
    "from pandas.plotting import register_matplotlib_converters\n",
    "import matplotlib.pyplot as plt\n",
    "import seaborn as sns\n",
    "import pandas as pd\n",
    "import dataset\n",
    "register_matplotlib_converters()"
   ]
  },
  {
   "cell_type": "markdown",
   "metadata": {
    "toc-hr-collapsed": true
   },
   "source": [
    "## Die Daten aus der Datenbank laden\n",
    "Zunächst laden wir die Daten der gewünschten Tabelle aus unserer Datenbank. In diesem Fall wollen wir gerne die Gesamtwerte laden (ohne Suchanfragen oder Seiten). Hier ist die Datenmenge nicht sehr groß, daher laden wir mit `pd.read_sql_table` einfach die komplette Tabelle."
   ]
  },
  {
   "cell_type": "code",
   "execution_count": null,
   "metadata": {},
   "outputs": [],
   "source": [
    "db = dataset.connect('sqlite:///data/serienjunkies.db')\n",
    "db.tables"
   ]
  },
  {
   "cell_type": "code",
   "execution_count": null,
   "metadata": {},
   "outputs": [],
   "source": [
    "totals = pd.read_sql_table('web_country_device', con=db.engine, parse_dates=['date'])\n",
    "totals.head()"
   ]
  },
  {
   "cell_type": "markdown",
   "metadata": {
    "toc-hr-collapsed": false
   },
   "source": [
    "## Daten gruppieren\n",
    "In unserem Beispiel wollen wir die Daten auf Geräte gruppieren. Dies ist mittels `groupby` [(link)](https://pandas.pydata.org/pandas-docs/stable/reference/api/pandas.DataFrame.groupby.html) ganz einfach möglich."
   ]
  },
  {
   "cell_type": "code",
   "execution_count": null,
   "metadata": {},
   "outputs": [],
   "source": [
    "totals.groupby('device')['clicks','impressions'].sum()"
   ]
  },
  {
   "cell_type": "markdown",
   "metadata": {
    "toc-hr-collapsed": false
   },
   "source": [
    "### CTR und gewichtete Position\n",
    "Die CTR und Position die wir aus der Datenbank laden, können wir nicht einfach summieren. Die CTR muss aus den aggregierten Klicks & Impressionen neu errechnet werden. Ebenso muss die Position mit den Impressionen gewichtet werden, um korrekte Werte zu erhalten."
   ]
  },
  {
   "cell_type": "markdown",
   "metadata": {},
   "source": [
    "#### Hilfsfunktionen mittels Cell Magic\n",
    "Wir laden daher mittels `cell magic` ein paar Funktionen aus einer Python Datei im Ordner `helpers`."
   ]
  },
  {
   "cell_type": "code",
   "execution_count": null,
   "metadata": {},
   "outputs": [],
   "source": [
    "%load -r 4:28 helpers/helpers.py"
   ]
  },
  {
   "cell_type": "markdown",
   "metadata": {},
   "source": [
    "#### Berechnen der Spalten\n",
    "Nun da wir die Funktionen geladen und die Zelle ausgeführt haben, können sie mittels `pipe`-Funktion [(link)](https://pandas.pydata.org/pandas-docs/stable/reference/api/pandas.DataFrame.pipe.html) verkettet ausgeführt werden *(method-chaining)*.\n",
    "\n",
    "Die nächste Zelle führt also folgende Funktionen aus:\n",
    "1. Neue Spalte hinzufügen. Produkt aus Position und Impression.\n",
    "2. Gruppierung auf Gerät und summieren aller Metriken.\n",
    "3. Berechnen der gewichteten Position.\n",
    "4. Berechnen der CTR aus summierten Werten.\n",
    "5. Entfernen der Spalte `pos_imp`"
   ]
  },
  {
   "cell_type": "code",
   "execution_count": null,
   "metadata": {},
   "outputs": [],
   "source": [
    "totals.pipe(assign_pos_imp) \\\n",
    "    .groupby('device')['clicks','impressions', 'pos_imp'].sum() \\\n",
    "    .pipe(assign_position) \\\n",
    "    .pipe(assign_ctr) \\\n",
    "    .drop('pos_imp', axis='columns')"
   ]
  },
  {
   "cell_type": "markdown",
   "metadata": {
    "toc-hr-collapsed": false
   },
   "source": [
    "## Klicks nach Geräten im Zeitverlauf\n",
    "Bisher haben wir \"nur\" die Gesamtwerte für die Geräte über den gesamten Zeitraum berechnet. Nachfolgend wollen wir die Daten der Geräte im Zeitverlauf darstellen. Dafür müssen wir neben `device` auch auf `date` gruppieren. Hierfür muss eine Liste, statt einem einzelnen Wert in die `groupby`-Funktion übergeben werden. "
   ]
  },
  {
   "cell_type": "markdown",
   "metadata": {},
   "source": [
    "Damit die Plots etwas hübscher aussehen, laden wir hier abermals mittels `cell magic` ein wenig Code."
   ]
  },
  {
   "cell_type": "code",
   "execution_count": null,
   "metadata": {},
   "outputs": [],
   "source": [
    "%load -r 33:38 helpers/helpers.py"
   ]
  },
  {
   "cell_type": "code",
   "execution_count": null,
   "metadata": {},
   "outputs": [],
   "source": [
    "ax = totals.pipe(assign_pos_imp) \\\n",
    "    .groupby('date', as_index=False)['clicks','impressions', 'pos_imp'].sum() \\\n",
    "    .pipe(assign_position) \\\n",
    "    .pipe(assign_ctr) \\\n",
    "    .drop('pos_imp', axis=1) \\\n",
    "    .pipe((sns.lineplot, 'data'),\n",
    "          x='date', y='clicks')\n",
    "ax.set_title('Klicks im Zeitverlauf', x=0, ha='left')\n",
    "sns.despine()"
   ]
  },
  {
   "cell_type": "markdown",
   "metadata": {},
   "source": [
    "### Gruppierung mit Datum und Gerät\n",
    "Damit wir die Daten nicht immer wieder gruppieren, speichern wir sie nun in eine neue Variable `device_totals`. Die Gruppierung und Berechnung der Werte erfolgt wie im Beipsiel oben, dieses Mal aber mit `date` in den Gruppen. "
   ]
  },
  {
   "cell_type": "code",
   "execution_count": null,
   "metadata": {},
   "outputs": [],
   "source": [
    "device_totals = totals.pipe(assign_pos_imp) \\\n",
    "    .groupby(['date','device'], as_index=False)['clicks','impressions', 'pos_imp'].sum() \\\n",
    "    .pipe(assign_position) \\\n",
    "    .pipe(assign_ctr) \\\n",
    "    .drop('pos_imp', axis=1)\n",
    "device_totals.head()"
   ]
  },
  {
   "cell_type": "markdown",
   "metadata": {},
   "source": [
    "### Plot des Zeitverlaufs\n",
    "Zur Visualisierung nutzen wir direkt das Package `seaborn` [(link)](https://seaborn.pydata.org/index.html). Der Plot ist aber ebenso direkt aus Pandas möglich.\n",
    "\n",
    "*Achtung:* Ich nutze `seaborn` hier ebenfalls innerhalb einer `pipe`. Oftmals ist es nützlich, den Plot direkt nach einigen Aggregationsschritten verkettet auszuführen. `sns.lineplot` [(link)](https://seaborn.pydata.org/generated/seaborn.lineplot.html#seaborn.lineplot) kann natürlich auch direkt verwendet werden:\n",
    "```\n",
    "sns.lineplot(x='date', y='clicks', data=device_totals, hue='device')\n",
    "```"
   ]
  },
  {
   "cell_type": "code",
   "execution_count": null,
   "metadata": {},
   "outputs": [],
   "source": [
    "ax = device_totals.pipe((sns.lineplot, 'data'),\n",
    "          x='date', y='clicks', hue='device')\n",
    "ax.set_title('Klicks pro Gerät', x=0, ha='left')\n",
    "sns.despine()"
   ]
  },
  {
   "cell_type": "markdown",
   "metadata": {},
   "source": [
    "## Resampling der Daten (Monate)\n",
    "Bisher haben wir zappelige Tageswerte. Pandas macht es sehr einfach, die Daten auf andere Zeiteinheiten zu aggregieren. Dies kann entweder mittels `.resample` [(link)](https://pandas.pydata.org/pandas-docs/stable/reference/api/pandas.DataFrame.resample.html) durchgeführt werden, oder mittels `pd.Grouper` [(link)](https://pandas.pydata.org/pandas-docs/stable/reference/api/pandas.Grouper.html) direkt als Teil eines Groupby. Für beide Funktionen muss der Index des DataFrames ein Zeit-Index sein."
   ]
  },
  {
   "cell_type": "code",
   "execution_count": null,
   "metadata": {},
   "outputs": [],
   "source": [
    "ax = device_totals.set_index('date') \\\n",
    "    .resample('M')['clicks'].sum() \\\n",
    "    .reset_index() \\\n",
    "    .pipe((sns.lineplot, 'data'),\n",
    "          x='date', y='clicks')\n",
    "ax.set_title('Klicks pro Monat', x=0, ha='left')\n",
    "sns.despine()"
   ]
  },
  {
   "cell_type": "code",
   "execution_count": null,
   "metadata": {},
   "outputs": [],
   "source": [
    "ax = device_totals.groupby([pd.Grouper(key='date', freq='M'),'device'])['clicks'].sum() \\\n",
    "    .reset_index() \\\n",
    "    .pipe((sns.lineplot, 'data'),\n",
    "          x='date', y='clicks', hue='device')\n",
    "ax.set_title('Klicks pro Monat', x=0, ha='left')\n",
    "sns.despine()"
   ]
  },
  {
   "cell_type": "markdown",
   "metadata": {
    "toc-hr-collapsed": false
   },
   "source": [
    "## Rollender Durchschnitt\n",
    "Neben der Aggregation, können wir die Daten natürlich auch im rollenden Durchschnitt darstellen. Hierfür gibt es ebenfalls eine passende Funktion `.rolling` [(link)](https://pandas.pydata.org/pandas-docs/stable/reference/api/pandas.DataFrame.rolling.html). Da wir die Werte für jede Gruppe benötigen, führen wir direkt einen Spezialfall aus.\n",
    "- Zeitindex setzen\n",
    "- Gruppieren auf Geräte\n",
    "- Berechnen des rollenden Durchschnitts der Klicks"
   ]
  },
  {
   "cell_type": "code",
   "execution_count": null,
   "metadata": {},
   "outputs": [],
   "source": [
    "ax = device_totals.set_index('date').groupby('device')['clicks'].rolling(28).mean() \\\n",
    "    .reset_index() \\\n",
    "    .pipe((sns.lineplot, 'data'),\n",
    "          x='date', y='clicks', hue='device')\n",
    "device_totals.pipe((sns.lineplot, 'data'), ax=ax, alpha=.4,\n",
    "                   x='date', y='clicks', hue='device', style='device', dashes=[(2,2) for n in range(3)])\n",
    "ax.set_title('Klicks im rollenden Durchschnitt', ha='left', x=0)\n",
    "ax.legend(loc='center left', bbox_to_anchor=(1, 0.5)) # in diesem Beispiel ist die Legende Rechts\n",
    "sns.despine()"
   ]
  },
  {
   "cell_type": "markdown",
   "metadata": {},
   "source": [
    "## Prozentuale Veränderung\n",
    "Zur Visualisierung der prozentualen Veränderung aggregieren wir die Daten zunächst auf Monate. Dazu im `groupby` die Frequenz 'M' für Monat nutzen. Danach die übliche Berechnung von CTR und Position."
   ]
  },
  {
   "cell_type": "code",
   "execution_count": null,
   "metadata": {},
   "outputs": [],
   "source": [
    "totals_agg_m = totals.pipe(assign_pos_imp) \\\n",
    "    .groupby(pd.Grouper(key='date', freq='M'))[['clicks','impressions','pos_imp']].sum() \\\n",
    "    .pipe(assign_position) \\\n",
    "    .pipe(assign_ctr) \\\n",
    "    .drop('pos_imp', axis='columns')\n",
    "totals_agg_m.head()"
   ]
  },
  {
   "cell_type": "markdown",
   "metadata": {},
   "source": [
    "Nun kann ganz einfach mittels `pct_change` [(link)](https://pandas.pydata.org/pandas-docs/stable/reference/api/pandas.DataFrame.pct_change.html) die prozentuale Veränderung berechnet werden."
   ]
  },
  {
   "cell_type": "code",
   "execution_count": null,
   "metadata": {},
   "outputs": [],
   "source": [
    "metric = 'clicks'\n",
    "pct_change = totals_agg_m.pct_change() \\\n",
    "    .dropna() \\\n",
    "    .reset_index() \\\n",
    "    .assign(month_name = lambda x: x['date'].dt.month_name('DEU_DEU'))\n",
    "pct_change['positive'] = pct_change[metric] > 0\n",
    "pct_change.head()"
   ]
  },
  {
   "cell_type": "code",
   "execution_count": null,
   "metadata": {},
   "outputs": [],
   "source": [
    "ax = pct_change.plot(kind='bar', y=metric, x='month_name', color=pct_change.positive.map({True:'g',False:'r'}))\n",
    "ax.set_title(f'Prozentuale Veränderung ({metric} - 1 Monat)', x=0, ha='left')\n",
    "sns.despine()"
   ]
  },
  {
   "cell_type": "markdown",
   "metadata": {
    "toc-hr-collapsed": false
   },
   "source": [
    "## Entwicklung Tage im Monat / Woche\n",
    "Häufig bringt es interessante Erkenntnisse über das Datenset, wenn man den Zeitverlauf des gesamten Datensets auf die Tage des Monats, oder aber die Tage der Woche aggregiert. So kann man leicht erkennen, ob es in den Monaten / Wochen einen Trend gibt.\n",
    "\n",
    "Wir aggregieren die Daten ähnlich wie bisher, fügen aber eine weitere Spalte hinzu. Einmal den Tag des Monats `pd.DataFrame['date'].dt.day` [(link)](https://pandas.pydata.org/pandas-docs/stable/reference/api/pandas.Series.dt.day.html) und weiter unten den Tag der Woche `pd.DataFrame['date'].dt.dayofweek` [(link)](https://pandas.pydata.org/pandas-docs/stable/reference/api/pandas.Series.dt.dayofweek.html)."
   ]
  },
  {
   "cell_type": "code",
   "execution_count": null,
   "metadata": {},
   "outputs": [],
   "source": [
    "totals_agg_d = totals.pipe(assign_pos_imp) \\\n",
    "    .assign(day_in_month = lambda x: x.date.dt.day) \\\n",
    "    .groupby('day_in_month', as_index=False)[['clicks','impressions','pos_imp']].mean() \\\n",
    "    .pipe(assign_position) \\\n",
    "    .pipe(assign_ctr) \\\n",
    "    .drop('pos_imp', axis='columns')\n",
    "totals_agg_d.head()"
   ]
  },
  {
   "cell_type": "code",
   "execution_count": null,
   "metadata": {},
   "outputs": [],
   "source": [
    "ax = totals_agg_d.query('day_in_month < 31') \\\n",
    "    .pipe((sns.regplot, 'data'), x='day_in_month', y='clicks')\n",
    "ax.set_title('Verlauf Klicks über Tage im Monat', x=0, ha='left')\n",
    "sns.despine()"
   ]
  },
  {
   "cell_type": "markdown",
   "metadata": {},
   "source": [
    "### Geräte und Metriken in einem facettierten Plot\n",
    "Damit man sich nicht nur Klicks, oder jede Metrik einzeln anschauen muss, gibt es die Möglichkeit facettierte Plots zu erstellen. Dabei können Zeilen und Spalten innerhalb des Plots definiert werden. \n",
    "\n",
    "**Achtung:** Damit dies mit `seaborn` funtkioniert, müssen die Daten in ein langes (tidy) Format gebracht werden. Im Beispiel machen wir dies mit der Pandas Funktion `melt` [(link)](https://pandas.pydata.org/pandas-docs/stable/reference/api/pandas.Series.dt.day.html)"
   ]
  },
  {
   "cell_type": "code",
   "execution_count": null,
   "metadata": {},
   "outputs": [],
   "source": [
    "sns.set('notebook', rc={'figure.constrained_layout.use':False})\n",
    "g = totals.assign(day_in_month = lambda x: x.date.dt.day) \\\n",
    "    .groupby(['device','day_in_month'], as_index=False)[['clicks','impressions']].mean() \\\n",
    "    .pipe(assign_ctr) \\\n",
    "    .query('day_in_month < 31') \\\n",
    "    .melt(id_vars=['device','day_in_month'], value_vars=['clicks','impressions','ctr']) \\\n",
    "    .pipe((sns.FacetGrid, 'data'),\n",
    "          col='device', row='variable',\n",
    "          hue='device', sharey=False, height=5) \\\n",
    "    .map(sns.regplot, 'day_in_month', 'value', truncate=True)\n",
    "g.fig.suptitle('Verlauf über Tage im Monat', fontsize=20)\n",
    "plt.subplots_adjust(top=.92)\n",
    "sns.despine()\n",
    "g.fig.savefig('sj_days_of_month.png', bbox_inches='tight')"
   ]
  },
  {
   "cell_type": "code",
   "execution_count": null,
   "metadata": {},
   "outputs": [],
   "source": [
    "g = totals.assign(day_in_week = lambda x: x.date.dt.dayofweek+1) \\\n",
    "    .groupby(['device','day_in_week'], as_index=False)[['clicks','impressions']].mean() \\\n",
    "    .pipe(assign_ctr) \\\n",
    "    .melt(id_vars=['device','day_in_week'], value_vars=['clicks','impressions','ctr']) \\\n",
    "    .pipe((sns.FacetGrid, 'data'),\n",
    "          col='device', row='variable',\n",
    "          hue='device', sharey=False, height=5) \\\n",
    "    .map(sns.regplot, 'day_in_week', 'value', truncate=True)\n",
    "g.fig.suptitle('Verlauf über Tage der Woche', fontsize=20)\n",
    "plt.subplots_adjust(top=.92)\n",
    "sns.despine()\n",
    "g.fig.savefig('sj_days_of_week.png', bbox_inches='tight')"
   ]
  }
 ],
 "metadata": {
  "kernelspec": {
   "display_name": "Python 3",
   "language": "python",
   "name": "python3"
  },
  "language_info": {
   "codemirror_mode": {
    "name": "ipython",
    "version": 3
   },
   "file_extension": ".py",
   "mimetype": "text/x-python",
   "name": "python",
   "nbconvert_exporter": "python",
   "pygments_lexer": "ipython3",
   "version": "3.7.2"
  },
  "toc-autonumbering": false,
  "toc-showcode": false,
  "toc-showmarkdowntxt": false,
  "toc-showtags": false
 },
 "nbformat": 4,
 "nbformat_minor": 2
}
