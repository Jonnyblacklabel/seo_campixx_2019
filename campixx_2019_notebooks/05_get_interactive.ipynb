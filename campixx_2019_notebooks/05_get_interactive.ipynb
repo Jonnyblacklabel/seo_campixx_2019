{
 "cells": [
  {
   "cell_type": "code",
   "execution_count": null,
   "metadata": {},
   "outputs": [],
   "source": [
    "import ipywidgets as widgets\n",
    "from ipywidgets import Layout\n",
    "import pandas as pd\n",
    "import dataset\n",
    "import seaborn as sns\n",
    "import qgrid\n",
    "import matplotlib.pyplot as plt\n",
    "from pandas.plotting import register_matplotlib_converters\n",
    "register_matplotlib_converters()\n",
    "qgrid.enable(dataframe=True, series=True)"
   ]
  },
  {
   "cell_type": "code",
   "execution_count": null,
   "metadata": {},
   "outputs": [],
   "source": [
    "test = widgets.Text()\n",
    "output = widgets.Text(value=test.value)\n",
    "widgets.jslink((test, 'value'),(output,'value'))\n",
    "widgets.HBox([test,output])"
   ]
  },
  {
   "cell_type": "code",
   "execution_count": null,
   "metadata": {},
   "outputs": [],
   "source": [
    "a = widgets.FloatText()\n",
    "b = widgets.FloatSlider()\n",
    "display(a,b)\n",
    "\n",
    "mylink = widgets.jslink((a, 'value'), (b, 'value'))"
   ]
  },
  {
   "cell_type": "code",
   "execution_count": null,
   "metadata": {},
   "outputs": [],
   "source": [
    "db = dataset.connect('sqlite:///data/serienjunkies.db')\n",
    "\n",
    "query = \"\"\"\n",
    "select \"date\",\n",
    "    page,\n",
    "    query,\n",
    "    sum(clicks) as clicks,\n",
    "    sum(impressions) as impressions,\n",
    "    sum(impressions * position) as pos_imp\n",
    "from web_country_device_page_query\n",
    "where \"date\" > '2019-01-01'\n",
    "group by \"date\", page, query\n",
    "\"\"\"\n",
    "\n",
    "df = pd.read_sql(query, con=db.engine, parse_dates=['date'])"
   ]
  },
  {
   "cell_type": "code",
   "execution_count": null,
   "metadata": {},
   "outputs": [],
   "source": [
    "# %load -r 4:28 helpers/helpers.py\n",
    "def assign_pos_imp(df):\n",
    "  \"\"\"Calculate pos_imp for weighted position\n",
    "  \n",
    "  Arguments:\n",
    "    df -- source DataFrame\n",
    "  \"\"\"\n",
    "  return df.assign(pos_imp=lambda x: x.position * x.impressions)\n",
    "\n",
    "def assign_position(df):\n",
    "  \"\"\"Calculate position and assign new col \"position\"\n",
    "  \n",
    "  Arguments:\n",
    "    df -- source DataFrame\n",
    "  \"\"\"\n",
    "  return df.assign(position=lambda x: x.pos_imp / x.impressions)\n",
    "\n",
    "\n",
    "def assign_ctr(df):\n",
    "  \"\"\"calculate ctr and assign new col \"position\"\n",
    "  \n",
    "  Arguments:\n",
    "    df -- source DataFrame\n",
    "  \"\"\"\n",
    "  return df.assign(ctr= lambda x: x.clicks / x.impressions)"
   ]
  },
  {
   "cell_type": "code",
   "execution_count": null,
   "metadata": {},
   "outputs": [],
   "source": [
    "def filter_df(p_pattern, q_pattern):\n",
    "    return df[(df['page'].str.contains(p_pattern, case=False, regex=True)) & (df['query'].str.contains(q_pattern, case=False, regex=True))] \\\n",
    "        .groupby(['page','query'], as_index=False).sum() \\\n",
    "        .pipe(assign_position) \\\n",
    "        .drop('pos_imp', axis=1) \\\n",
    "        .pipe(assign_ctr) \\\n",
    "        .sort_values('clicks', ascending=False) \\\n",
    "        .iloc[0:20,:]"
   ]
  },
  {
   "cell_type": "code",
   "execution_count": null,
   "metadata": {},
   "outputs": [],
   "source": [
    "out = widgets.Output()"
   ]
  },
  {
   "cell_type": "code",
   "execution_count": null,
   "metadata": {},
   "outputs": [],
   "source": [
    "def button_clicked(b):\n",
    "    out.clear_output()\n",
    "    with out:\n",
    "        df[(df['page'].str.contains(page.value, case=False, regex=True)) & (df['query'].str.contains(query.value, case=False, regex=True))] \\\n",
    "                .groupby('date', as_index=False).sum() \\\n",
    "                .pipe(assign_position) \\\n",
    "                .drop('pos_imp', axis=1) \\\n",
    "                .pipe(assign_ctr) \\\n",
    "                .melt(id_vars = 'date', value_vars=['clicks','impressions','ctr','position']) \\\n",
    "                .pipe((sns.FacetGrid, 'data'), col='variable', col_wrap=2, aspect=3, sharey=False, hue='variable') \\\n",
    "                .map(sns.lineplot, 'date', 'value')\n",
    "        plt.show()\n",
    "        display(filter_df(p_pattern = page.value, q_pattern = query.value))"
   ]
  },
  {
   "cell_type": "code",
   "execution_count": null,
   "metadata": {},
   "outputs": [],
   "source": [
    "row_layout = Layout(display='flex',flex_flow='row',align_items='stretch',width='100%')\n",
    "\n",
    "query = widgets.Text(description='query')\n",
    "page = widgets.Text(description='page', layout=Layout(flex='2 1 auto', width='auto'))\n",
    "button = widgets.Button(description='show', layout=Layout(flex='2 1 auto', width='auto'))\n",
    "\n",
    "button.on_click(button_clicked)\n",
    "\n",
    "widgets.VBox([widgets.HBox([query,page], layout=row_layout),\n",
    "              widgets.HBox([button], layout=row_layout),\n",
    "              out])"
   ]
  }
 ],
 "metadata": {
  "kernelspec": {
   "display_name": "Python 3",
   "language": "python",
   "name": "python3"
  },
  "language_info": {
   "codemirror_mode": {
    "name": "ipython",
    "version": 3
   },
   "file_extension": ".py",
   "mimetype": "text/x-python",
   "name": "python",
   "nbconvert_exporter": "python",
   "pygments_lexer": "ipython3",
   "version": "3.7.2"
  }
 },
 "nbformat": 4,
 "nbformat_minor": 2
}
