{
 "cells": [
  {
   "cell_type": "markdown",
   "metadata": {
    "slideshow": {
     "slide_type": "slide"
    }
   },
   "source": [
    "<span class=\"col-md-12\">\n",
    "    <span class=\"row\">\n",
    "        <h1 class=\"col-md-8\">CAMPIXX 2019</h1>\n",
    "        <span class=\"col-md-4\">\n",
    "            <img src=\"data/get_traction.jpg\", width=\"15%\", align=\"right\">\n",
    "        </span>\n",
    "        <h2>Jupyter, etwas Python und die Google Search Console</h2>\n",
    "    </span>\n",
    "    <span class=\"row\">\n",
    "        <br><br><br><br><br><br><br><br><br>\n",
    "    </span>\n",
    "    <span class=\"row\">\n",
    "        <p class=\"col-md-4\">Johannes Kunze</p>\n",
    "        <span class=\"col-md-4\"></span>\n",
    "        <p class=\"col-md-4\", style=\"text-align:right\">21.03.2019</p>\n",
    "    </span>\n",
    "</span>"
   ]
  },
  {
   "cell_type": "markdown",
   "metadata": {
    "slideshow": {
     "slide_type": "slide"
    }
   },
   "source": [
    "<div class=\"col-md-12\">\n",
    "    <div class=\"row\">\n",
    "        <h1 class=\"col-md-8\">Senior Consultant &amp; Analyst bei get:traction</h1>\n",
    "        <span class=\"col-md-4\">\n",
    "            <img src=\"data/get_traction.jpg\", width=\"15%\", align=\"right\">\n",
    "        </span>\n",
    "    </div>\n",
    "    <br>\n",
    "    <div class=\"row\">\n",
    "        <span class=\"col-md-4\">\n",
    "            <img src=\"data/Johannes-Kunze.jpg\", width=\"80%\">\n",
    "        </span>\n",
    "        <span class=\"col-md-8\">\n",
    "            <h2>Johannes Kunze</h2>\n",
    "            <hr>\n",
    "            <ul>\n",
    "                <li>Twitter: <i>@jonnyblacklabel</i></li>\n",
    "                <li>Facebook: <i>/johanneskunze86</i></li>\n",
    "                <li>e-Mail: <i>jk@gettraction.de</i></li>\n",
    "                <li>GitHub: <i>@jonnyblacklabel</i></li>\n",
    "            </ul>\n",
    "            <p class='alert alert-info'>⇨ Facebook-Gruppe: <b>OmPyR</b>\n",
    "        </span>\n",
    "    </div>\n",
    "</div>"
   ]
  },
  {
   "cell_type": "markdown",
   "metadata": {
    "slideshow": {
     "slide_type": "slide"
    }
   },
   "source": [
    "<div class=\"col-md-12\">\n",
    "    <div class=\"row\">\n",
    "        <h1 class=\"col-md-8\">Wie kam ich zu Python?</h1>\n",
    "        <span class=\"col-md-4\">\n",
    "            <img src=\"data/get_traction.jpg\", width=\"15%\", align=\"right\">\n",
    "        </span>\n",
    "    </div>\n",
    "    <div class=\"row\">\n",
    "        <div class=\"col-md-6\">\n",
    "            <h3>KNIME</h3>\n",
    "            <small><i>(seit 2012)</i></small>\n",
    "            <hr>\n",
    "            <ul>\n",
    "                <li>Im Studium entdeckt.</li>\n",
    "                <li>Mit in die Arbeitswelt überführt.</li>\n",
    "                <li>Seit dem massiv im Einsatz für allerhand Automatisierung.</li>\n",
    "                <li>Fantastisches Tool zur Datenmanipulation und Analyse.</li>\n",
    "                <li>Hat einige Studenten ersetzt...</li>\n",
    "            </ul>\n",
    "            <p>⇨ Man erreicht schnell Grenzen, die den Wunsch nach einer \"echten\" Programmiersprache größer werden lassen</p>\n",
    "        </div>\n",
    "        <div class=\"col-md-6\">\n",
    "            <h3>PowerPivot / Power Query</h3>\n",
    "            <small>Excel on steroids <i>(seit 2013)</i></small>\n",
    "            <hr>\n",
    "            <ul>\n",
    "                <li>Wenn Excel überfordert ist.</li>\n",
    "                <li>Man kommt wirklich überraschend weit damit.</li>\n",
    "                <li>Excel bleibt Excel...</li>\n",
    "                <li>Es stürzt ab, friert ein und hat seine Grenzen.</li>\n",
    "                <li>Analysen sind meist nicht reproduzierbar</li>\n",
    "                <li>Gerade im OM-Umfeld für die wildesten Dinge eingesetzt.</li>\n",
    "            </ul>\n",
    "            <p>⇨ Immer noch ein Hammer-Tool. Aber bitte, bitte, baut keine Automatisierungen damit.</p>\n",
    "        </div>\n",
    "    </div>\n",
    "</div>"
   ]
  },
  {
   "cell_type": "markdown",
   "metadata": {
    "slideshow": {
     "slide_type": "slide"
    }
   },
   "source": [
    "<div class=\"col-md-12\">\n",
    "    <div class=\"row\">\n",
    "        <h1 class=\"col-md-8\">Wie kam ich zu Python?</h1>\n",
    "        <span class=\"col-md-4\">\n",
    "            <img src=\"data/get_traction.jpg\", width=\"15%\", align=\"right\">\n",
    "        </span>\n",
    "    </div>\n",
    "    <div class=\"row\">\n",
    "        <h3>Python, Pandas &amp; Co.</h3>\n",
    "        <small><i>(seit 2017)</i> <a href=\"https://www.datacamp.com/\">(Datacamp)</a></small>\n",
    "        <hr>\n",
    "        <ul>\n",
    "            <li>Skripting Fähigkeiten als <i>\"hidden Superpower\"</i></li>\n",
    "            <li>Eröffnet völlig neue Möglichkeiten:</li>\n",
    "            <ul>\n",
    "                <li><b>Reproduzierbare, dokumentierte Datenanalyse!</b></li>\n",
    "                <li>Alle Daten des Internets (APIs, Crawling, etc).</li>\n",
    "                <li>Arbeiten mit DataFrames dank Pandas.</li>\n",
    "                <li>Große Datenmengen mit Dask, PySpark und anderen Helferlein.</li>\n",
    "                <li>Automatisierung mit Fehlerkontrolle! <small>(Das ist in KNIME meist schwierig)</small></li>\n",
    "            </ul>\n",
    "        </ul>\n",
    "    </div>\n",
    "</div>"
   ]
  },
  {
   "cell_type": "markdown",
   "metadata": {
    "slideshow": {
     "slide_type": "slide"
    }
   },
   "source": [
    "<div class=\"col-md-12\">\n",
    "    <div class=\"row\">\n",
    "        <h1 class=\"col-md-8\">Soll ich nun auch Python lernen?</h1>\n",
    "        <span class=\"col-md-4\">\n",
    "            <img src=\"data/get_traction.jpg\", width=\"15%\", align=\"right\">\n",
    "        </span>\n",
    "    </div>\n",
    "    <div class=\"row\">\n",
    "        <div class='col-md-12'>\n",
    "            <p>Es ist eigentlich völlig egal, ob ihr <strong>Julia, Python, R</strong> <i>(Fun-Fact: Ju-Pyt-R)</i> oder eine andere Sprache lernt. Die richtigen Fragen stellen ist viel wichtiger</p>\n",
    "            <p class=\"alert alert-success\">⇨ Wer bereits die krassesten Sachen in Excel gehackt hat, kann auch eine Sprache wie  Python oder R erlernen.</p>\n",
    "            <p class=\"alert alert-info\">⇨ Versucht die ersten Schritte zu gehen. Wenn ihr so weit seid, zwingt euch, eure tägliche Arbeit einfach mit Python zu lösen.</p>\n",
    "            <p class=\"alert alert-warning\">⇨ Wer das erste Mal seine Arbeit am nächsten Tag auf \"Knopfdruck\" fertigstellt, wird nie wieder umkehren!</p>\n",
    "            <br>\n",
    "            <p class=\"alert alert-danger\"><b>Das Wichtigste:</b> Egal wie ihr eure Analysen macht, kommt in unsere Gruppe <b>OmPyR</b> auf Facebook: https://www.facebook.com/groups/ompyr</p>\n",
    "        </div>\n",
    "    </div>\n",
    "</div>"
   ]
  },
  {
   "cell_type": "markdown",
   "metadata": {
    "slideshow": {
     "slide_type": "slide"
    }
   },
   "source": [
    "## Jupyter & Python - Eine kurze Intro\n",
    "Simple Datentypen. Rechnen, Ausgabe, Listen und Dictionaries."
   ]
  },
  {
   "cell_type": "code",
   "execution_count": null,
   "metadata": {},
   "outputs": [],
   "source": [
    "print('Campix rockt!')"
   ]
  },
  {
   "cell_type": "code",
   "execution_count": null,
   "metadata": {
    "slideshow": {
     "slide_type": "-"
    }
   },
   "outputs": [],
   "source": [
    "2 + 7"
   ]
  },
  {
   "cell_type": "code",
   "execution_count": null,
   "metadata": {},
   "outputs": [],
   "source": [
    "words = ['das','ist','eine','liste']\n",
    "words"
   ]
  },
  {
   "cell_type": "code",
   "execution_count": null,
   "metadata": {},
   "outputs": [],
   "source": [
    "words[2]"
   ]
  },
  {
   "cell_type": "code",
   "execution_count": null,
   "metadata": {},
   "outputs": [],
   "source": [
    "dict_example = dict(beispiel=words, foo='bar')\n",
    "dict_example"
   ]
  },
  {
   "cell_type": "code",
   "execution_count": null,
   "metadata": {},
   "outputs": [],
   "source": [
    "dict_example['beispiel'][0::2]"
   ]
  },
  {
   "cell_type": "markdown",
   "metadata": {
    "slideshow": {
     "slide_type": "slide"
    }
   },
   "source": [
    "## Jupyter & Python - Eine kurze Intro\n",
    "Python ist meist sehr leicht lesbar. "
   ]
  },
  {
   "cell_type": "code",
   "execution_count": null,
   "metadata": {},
   "outputs": [],
   "source": [
    "for word in words:\n",
    "    print(word.upper())"
   ]
  },
  {
   "cell_type": "code",
   "execution_count": null,
   "metadata": {},
   "outputs": [],
   "source": [
    "for i, word in enumerate(words):\n",
    "    print(f'wort {i+1}: {word.upper()}')"
   ]
  },
  {
   "cell_type": "markdown",
   "metadata": {
    "slideshow": {
     "slide_type": "slide"
    }
   },
   "source": [
    "# import [package] - Ein Universum an Möglichkeiten\n",
    "Alleine die Standard-Tools eröffnen dabei viele Möglichkeiten: https://docs.python.org/3/library/\n",
    "\n",
    "Die Open Source Community arbeitet aber natürlich ständig an interessanten Packages."
   ]
  },
  {
   "cell_type": "code",
   "execution_count": null,
   "metadata": {
    "slideshow": {
     "slide_type": "-"
    }
   },
   "outputs": [],
   "source": [
    "import math"
   ]
  },
  {
   "cell_type": "code",
   "execution_count": null,
   "metadata": {
    "slideshow": {
     "slide_type": "-"
    }
   },
   "outputs": [],
   "source": [
    "math.sqrt(2019)"
   ]
  },
  {
   "cell_type": "code",
   "execution_count": null,
   "metadata": {
    "slideshow": {
     "slide_type": "-"
    }
   },
   "outputs": [],
   "source": [
    "year = math.sqrt(2019) ** 2\n",
    "year"
   ]
  },
  {
   "cell_type": "markdown",
   "metadata": {
    "slideshow": {
     "slide_type": "slide"
    }
   },
   "source": [
    "# Jupyter Notebooks"
   ]
  },
  {
   "cell_type": "code",
   "execution_count": null,
   "metadata": {
    "slideshow": {
     "slide_type": "-"
    }
   },
   "outputs": [],
   "source": [
    "print('Strg + Enter führt die Zelle.')"
   ]
  },
  {
   "cell_type": "code",
   "execution_count": null,
   "metadata": {
    "slideshow": {
     "slide_type": "-"
    }
   },
   "outputs": [],
   "source": [
    "print('Shift + Enter führt die Zelle aus und aktiviert die nächste Zelle.')"
   ]
  },
  {
   "cell_type": "code",
   "execution_count": null,
   "metadata": {
    "slideshow": {
     "slide_type": "-"
    }
   },
   "outputs": [],
   "source": [
    "Strg + Enter führt eine Zelle aus.\n",
    "Fehler werden im Notebook angezeigt."
   ]
  },
  {
   "cell_type": "markdown",
   "metadata": {
    "slideshow": {
     "slide_type": "slide"
    }
   },
   "source": [
    "# Jupyter Notebooks"
   ]
  },
  {
   "cell_type": "markdown",
   "metadata": {
    "slideshow": {
     "slide_type": "-"
    }
   },
   "source": [
    "### Markdown Zelle\n",
    "Sie führen keinen Code aus. Können aber `mit üblichem Markdown` *formatiert* **werden**.\n",
    "```python\n",
    "print(f'Willkommen zur Campix {year}')\n",
    "```"
   ]
  },
  {
   "cell_type": "code",
   "execution_count": null,
   "metadata": {
    "slideshow": {
     "slide_type": "-"
    }
   },
   "outputs": [],
   "source": [
    "print(f'Willkommen zur Campixx {round(year,0)}')"
   ]
  },
  {
   "cell_type": "markdown",
   "metadata": {
    "slideshow": {
     "slide_type": "slide"
    }
   },
   "source": [
    "# Zeit für ein kleines Beispiel\n",
    "\n",
    "- Abfragen der Sistrix API für eine Domain\n",
    "- Einen Pandas DataFrame generieren\n",
    "- Visualisieren der Daten"
   ]
  },
  {
   "cell_type": "code",
   "execution_count": null,
   "metadata": {},
   "outputs": [],
   "source": [
    "from dotenv import dotenv_values # Damit ihr den Sistrix Key nicht seht ;-)\n",
    "import requests                  # Alles Mögliche aus dem Internet abfragen\n",
    "import pandas as pd              # DataFrames in Python"
   ]
  },
  {
   "cell_type": "code",
   "execution_count": null,
   "metadata": {},
   "outputs": [],
   "source": [
    "api_url = 'https://api.sistrix.com'"
   ]
  },
  {
   "cell_type": "markdown",
   "metadata": {
    "slideshow": {
     "slide_type": "slide"
    }
   },
   "source": [
    "# Abfragen der Sistrix API\n",
    "Zunächst nur den aktuellen Sichtbarkeits-Wert."
   ]
  },
  {
   "cell_type": "code",
   "execution_count": null,
   "metadata": {},
   "outputs": [],
   "source": [
    "response = requests.get('/'.join([api_url,'domain.sichtbarkeitsindex']),\n",
    "                        params=dict(api_key = dotenv_values()['SISTRIX_KEY'],\n",
    "                                    domain='serienjunkies.de',\n",
    "                                    format='json'))"
   ]
  },
  {
   "cell_type": "markdown",
   "metadata": {
    "slideshow": {
     "slide_type": "slide"
    }
   },
   "source": [
    "# Requests response\n",
    "Requests macht den Zugang zu den Daten einfach."
   ]
  },
  {
   "cell_type": "code",
   "execution_count": null,
   "metadata": {
    "slideshow": {
     "slide_type": "-"
    }
   },
   "outputs": [],
   "source": [
    "response.headers"
   ]
  },
  {
   "cell_type": "code",
   "execution_count": null,
   "metadata": {},
   "outputs": [],
   "source": [
    "response.status_code"
   ]
  },
  {
   "cell_type": "code",
   "execution_count": null,
   "metadata": {},
   "outputs": [],
   "source": [
    "response.content"
   ]
  },
  {
   "cell_type": "code",
   "execution_count": null,
   "metadata": {},
   "outputs": [],
   "source": [
    "response.json()"
   ]
  },
  {
   "cell_type": "markdown",
   "metadata": {
    "slideshow": {
     "slide_type": "slide"
    }
   },
   "source": [
    "# Abfrage der Sistrix API\n",
    "Nun mit allen Daten → `history = 'true'`."
   ]
  },
  {
   "cell_type": "code",
   "execution_count": null,
   "metadata": {
    "slideshow": {
     "slide_type": "-"
    }
   },
   "outputs": [],
   "source": [
    "response = requests.get('/'.join([api_url,'domain.sichtbarkeitsindex']),\n",
    "                        params=dict(api_key = dotenv_values()['SISTRIX_KEY'],\n",
    "                                    domain='serienjunkies.de',\n",
    "                                    format='json',\n",
    "                                    history='true'))"
   ]
  },
  {
   "cell_type": "code",
   "execution_count": null,
   "metadata": {},
   "outputs": [],
   "source": [
    "response"
   ]
  },
  {
   "cell_type": "markdown",
   "metadata": {
    "slideshow": {
     "slide_type": "slide"
    }
   },
   "source": [
    "# Pandas\n",
    "DAS Package um in Python mit tabellarischen Daten zu arbeiten."
   ]
  },
  {
   "cell_type": "code",
   "execution_count": null,
   "metadata": {
    "slideshow": {
     "slide_type": "-"
    }
   },
   "outputs": [],
   "source": [
    "si = pd.io.json.json_normalize(response.json()['answer'], ['sichtbarkeitsindex'])\n",
    "si['date'] = pd.to_datetime(si['date'], utc=True).dt.tz_localize(None)\n",
    "si.set_index('date', inplace=True)"
   ]
  },
  {
   "cell_type": "code",
   "execution_count": null,
   "metadata": {},
   "outputs": [],
   "source": [
    "si.head()"
   ]
  },
  {
   "cell_type": "markdown",
   "metadata": {
    "slideshow": {
     "slide_type": "slide"
    }
   },
   "source": [
    "# Pandas\n",
    "Rechnen, filtern, gruppieren."
   ]
  },
  {
   "cell_type": "code",
   "execution_count": null,
   "metadata": {},
   "outputs": [],
   "source": [
    "si.query('date > 2019').head()"
   ]
  },
  {
   "cell_type": "code",
   "execution_count": null,
   "metadata": {},
   "outputs": [],
   "source": [
    "print(f'summe: {si.value.sum()} - mean: {si.value.mean()} - max: {si.value.max()} - min: {si.value.min()}')"
   ]
  },
  {
   "cell_type": "code",
   "execution_count": null,
   "metadata": {},
   "outputs": [],
   "source": [
    "si.value.describe()"
   ]
  },
  {
   "cell_type": "markdown",
   "metadata": {
    "slideshow": {
     "slide_type": "slide"
    }
   },
   "source": [
    "# Plotting - Daten visualisieren\n",
    "Schnelle Plots direkt mit Pandas."
   ]
  },
  {
   "cell_type": "code",
   "execution_count": null,
   "metadata": {
    "slideshow": {
     "slide_type": "-"
    }
   },
   "outputs": [],
   "source": [
    "%matplotlib inline\n",
    "ax = si['value'].plot(figsize=(15,6))\n",
    "title = ax.set_title('Sichtbarkeit: serienjunkies.de')"
   ]
  },
  {
   "cell_type": "markdown",
   "metadata": {
    "slideshow": {
     "slide_type": "slide"
    }
   },
   "source": [
    "# Filtern & Plotten\n",
    "Stichwort *method-chaining*: Hintereinander reihen mehrerer Befehle in einer Zeile."
   ]
  },
  {
   "cell_type": "code",
   "execution_count": null,
   "metadata": {
    "slideshow": {
     "slide_type": "-"
    }
   },
   "outputs": [],
   "source": [
    "si.query('2017 < date') \\\n",
    "  .plot(figsize=(15,6)) \\\n",
    "  .set_title('Sichtbarkeit: serienjunkies.de')"
   ]
  },
  {
   "cell_type": "markdown",
   "metadata": {
    "slideshow": {
     "slide_type": "slide"
    }
   },
   "source": [
    "# Seaborn - Hübscheres Design & viele Standards\n",
    "https://seaborn.pydata.org/index.html"
   ]
  },
  {
   "cell_type": "code",
   "execution_count": null,
   "metadata": {
    "slideshow": {
     "slide_type": "-"
    }
   },
   "outputs": [],
   "source": [
    "import seaborn as sns\n",
    "sns.set(rc={'figure.figsize':(15,6)})"
   ]
  },
  {
   "cell_type": "code",
   "execution_count": null,
   "metadata": {},
   "outputs": [],
   "source": [
    "si.query('2017 < date') \\\n",
    "  .reset_index() \\\n",
    "  .pipe((sns.lineplot, 'data'), x='date', y='value')\n",
    "sns.despine()"
   ]
  },
  {
   "cell_type": "markdown",
   "metadata": {
    "slideshow": {
     "slide_type": "slide"
    }
   },
   "source": [
    "# Seaborn - Plot mit Confidence-Interval"
   ]
  },
  {
   "cell_type": "code",
   "execution_count": null,
   "metadata": {
    "slideshow": {
     "slide_type": "-"
    }
   },
   "outputs": [],
   "source": [
    "si.query('2017 < date') \\\n",
    "  .reset_index() \\\n",
    "  .assign(month = lambda x: x['date'].astype('datetime64[M]')) \\\n",
    "  .pipe((sns.lineplot, 'data'), x='month', y='value', ci='sd')\n",
    "sns.despine()"
   ]
  },
  {
   "cell_type": "markdown",
   "metadata": {
    "slideshow": {
     "slide_type": "slide"
    }
   },
   "source": [
    "# Seaborn - Scatterplot mit Regressionslinie"
   ]
  },
  {
   "cell_type": "code",
   "execution_count": null,
   "metadata": {},
   "outputs": [],
   "source": [
    "sns.regplot(x=list(range(len(si))),\n",
    "            y=si.sort_values('date').value,\n",
    "            scatter_kws=dict(alpha=.5))\n",
    "sns.despine()"
   ]
  },
  {
   "cell_type": "markdown",
   "metadata": {
    "slideshow": {
     "slide_type": "slide"
    }
   },
   "source": [
    "<div class=\"col-md-12\">\n",
    "    <div class=\"row\">\n",
    "        <h1 class=\"col-md-8\">Was erwartet mich jetzt?</h1>\n",
    "        <span class=\"col-md-4\">\n",
    "            <img src=\"data/get_traction.jpg\", width=\"15%\", align=\"right\">\n",
    "        </span>\n",
    "    </div>\n",
    "    <div class=\"row\">\n",
    "        <div class='col-md-12'>\n",
    "            <div class=\"alert alert-warning\">\n",
    "                <p>Leider werdet ihr nach den nächsten 30 Minuten kein Python können 😭</p>\n",
    "                <p>⇨ Ich bräuchte für alle Beispiele heute eigentlich bereits einen Tages-Workshop</p>\n",
    "            </div>\n",
    "            <div class=\"alert alert-info\">\n",
    "                <p>Ich zeige euch ein buntes Potpourri an Beispielen aus Python und der GSC 💐</p>\n",
    "                <p>⇨ Natürlich ist das bei WEITEM nicht alles was möglich ist!</p>\n",
    "            </div>\n",
    "        <div class=\"alert alert-success\">\n",
    "            <p>Ich hoffe, ich wecke damit euer Interesse und gebe euch eine kleine Starthilfe</p>\n",
    "            <p>⇨ Jetzt aber los: <strong>Google Search Console API</strong> und <strong>Jupyter Lab.</strong></p>\n",
    "        </div>\n",
    "    </div>\n",
    "</div>"
   ]
  }
 ],
 "metadata": {
  "celltoolbar": "Slideshow",
  "kernelspec": {
   "display_name": "Python 3",
   "language": "python",
   "name": "python3"
  },
  "language_info": {
   "codemirror_mode": {
    "name": "ipython",
    "version": 3
   },
   "file_extension": ".py",
   "mimetype": "text/x-python",
   "name": "python",
   "nbconvert_exporter": "python",
   "pygments_lexer": "ipython3",
   "version": "3.7.2"
  }
 },
 "nbformat": 4,
 "nbformat_minor": 2
}
